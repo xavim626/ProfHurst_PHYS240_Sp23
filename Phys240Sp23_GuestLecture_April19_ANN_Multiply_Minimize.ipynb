{
 "cells": [
  {
   "cell_type": "code",
   "execution_count": 1,
   "metadata": {
    "collapsed": true
   },
   "outputs": [],
   "source": [
    "# Copyright © 2019 Ehsan Khatami\n",
    "\n",
    "import numpy as np\n",
    "from scipy.optimize import minimize\n",
    "from pylab import *\n",
    "import random"
   ]
  },
  {
   "cell_type": "code",
   "execution_count": 12,
   "metadata": {
    "collapsed": true
   },
   "outputs": [],
   "source": [
    "# Data sizes\n",
    "N_data  = 20000\n",
    "N_train = 5000\n",
    "N_test  = N_data - N_train\n",
    "\n",
    "# Network parameters:\n",
    "# Number of input parameters\n",
    "N_in  = 2\n",
    "# Number of neurons in the hidden layer\n",
    "N_hid = 3\n",
    "# Number of output neurons\n",
    "N_out = 2\n",
    "\n",
    "# This is the total number of free parameters (weights and biases)\n",
    "nparams = (N_in+N_out+1)*N_hid+N_out\n",
    "\n",
    "# This is for the optimization function\n",
    "tol = 1e-2"
   ]
  },
  {
   "cell_type": "code",
   "execution_count": 13,
   "metadata": {
    "collapsed": true
   },
   "outputs": [],
   "source": [
    "# Generating the data (two number to be multiplied) and their labels (their product)\n",
    "data  = np.random.random(size=2*N_data).reshape(N_data,2)\n",
    "\n",
    "labels = np.zeros([N_data,2])\n",
    "labels[:,0] = data[:,0]*data[:,1]\n",
    "\n",
    "# This is becuase we have chosen two neurons for the output, and that\n",
    "# the activation function is softmax (see below)\n",
    "labels[:,1] = 1 - labels[:,0]"
   ]
  },
  {
   "cell_type": "code",
   "execution_count": 14,
   "metadata": {
    "collapsed": true
   },
   "outputs": [],
   "source": [
    "def sigmoid(x):\n",
    "    return 1.0/(1.0 + np.exp(-x))"
   ]
  },
  {
   "cell_type": "code",
   "execution_count": 15,
   "metadata": {
    "collapsed": true
   },
   "outputs": [],
   "source": [
    "def softmax(x):\n",
    "    z = sum(np.exp(x))\n",
    "    return np.exp(x)/z"
   ]
  },
  {
   "cell_type": "code",
   "execution_count": 16,
   "metadata": {
    "collapsed": true
   },
   "outputs": [],
   "source": [
    "# A bunch of linear algebra to get from the input to the output \n",
    "# knowing all the weights and biases\n",
    "def run_network_fc1(data_in):\n",
    "    first  = sigmoid(np.matmul(data_in,weights1)+biases1)\n",
    "    output = softmax(np.matmul(first,weights2)+biases2)\n",
    "    return output"
   ]
  },
  {
   "cell_type": "code",
   "execution_count": 17,
   "metadata": {
    "collapsed": true
   },
   "outputs": [],
   "source": [
    "# This is to place the network parameters from P into their \n",
    "# respective arrays after optimization\n",
    "def unroll(p):\n",
    "    \n",
    "    global weights1, biases1, weights2, biases2\n",
    "    \n",
    "    # Unpacking the parameters (P) into weights and biases\n",
    "    k = 0\n",
    "    for i in range(N_in):\n",
    "        for j in range(N_hid):\n",
    "            weights1[i,j] = p[k]\n",
    "            k = k + 1\n",
    "            \n",
    "    for i in range(N_hid):\n",
    "        biases1[i] = p[k]\n",
    "        k = k + 1\n",
    "\n",
    "    for i in range(N_hid):\n",
    "        for j in range(N_out):\n",
    "            weights2[i,j] = p[k]\n",
    "            k = k + 1\n",
    "            \n",
    "    for i in range(N_out):\n",
    "        biases2[i] = p[k]\n",
    "        k = k + 1\n",
    "        \n",
    "    return weights1, biases1, weights2, biases2"
   ]
  },
  {
   "cell_type": "code",
   "execution_count": 18,
   "metadata": {
    "collapsed": true
   },
   "outputs": [],
   "source": [
    "# The cost function\n",
    "def cost(p):\n",
    "    \n",
    "    global weights1, biases1, weights2, biases2\n",
    "    \n",
    "    weights1, biases1, weights2, biases2 = unroll(p)\n",
    "        \n",
    "    loss = 0.0\n",
    "    for i in range(N_train):\n",
    "        data_in = data[i,:]\n",
    "        output = run_network_fc1(data_in)\n",
    "        loss += sum(abs(labels[i,:] - output[:]))\n",
    "        #loss -= sum(output[:]*np.log(labels[i,:]) + (1-output[:])*np.log(1-labels[i,:]))\n",
    "    loss /= N_train\n",
    "    \n",
    "    return loss"
   ]
  },
  {
   "cell_type": "code",
   "execution_count": 19,
   "metadata": {},
   "outputs": [
    {
     "name": "stdout",
     "output_type": "stream",
     "text": [
      "Initial cost: 0.5143639623891822\n",
      "Final cost: 0.019962453490221906 # of iterations: 396\n"
     ]
    }
   ],
   "source": [
    "weights1 = np.zeros([N_in,N_hid]) \n",
    "biases1  = np.zeros([N_hid])\n",
    "weights2 = np.zeros([N_hid,N_out])\n",
    "biases2  = np.zeros([N_out])\n",
    "\n",
    "p = 2*np.random.random(size=nparams)-1\n",
    "print('Initial cost:', cost(p))\n",
    "\n",
    "# This is where leanrning takes place!\n",
    "res = minimize(cost,p,tol=tol)\n",
    "p = res.x \n",
    "\n",
    "print('Final cost:', res.fun, \"# of iterations:\", res.nit)"
   ]
  },
  {
   "cell_type": "code",
   "execution_count": 20,
   "metadata": {},
   "outputs": [
    {
     "data": {
      "image/png": "[encoded data removed]",
      "text/plain": [
       "<matplotlib.figure.Figure at 0x108ccc4a8>"
      ]
     },
     "metadata": {},
     "output_type": "display_data"
    }
   ],
   "source": [
    "# Testing the trained network\n",
    "actual = np.zeros(N_test)\n",
    "ann_out = np.zeros(N_test)\n",
    "\n",
    "for i in range(N_train,N_data):\n",
    "    data_in = data[i,:]\n",
    "    output = run_network_fc1(data_in)\n",
    "    \n",
    "    actual[i-N_train]  = data_in[0]*data_in[1]\n",
    "    ann_out[i-N_train] = output[0]\n",
    "    \n",
    "plot(actual,ann_out,'ob', ms=1, label='Testing Data')\n",
    "plot([0,1],[0,1],'-r', linewidth=2, label='Desired')\n",
    "xlim([0,1])\n",
    "ylim([0,1])\n",
    "xlabel('Actual Product', fontsize=15)\n",
    "ylabel('ANN Output', fontsize=15)\n",
    "legend(loc='upper left')\n",
    "show()"
   ]
  },
  {
   "cell_type": "code",
   "execution_count": null,
   "metadata": {
    "collapsed": true
   },
   "outputs": [],
   "source": []
  }
 ],
 "metadata": {
  "kernelspec": {
   "display_name": "Python 3",
   "language": "python",
   "name": "python3"
  },
  "language_info": {
   "codemirror_mode": {
    "name": "ipython",
    "version": 3
   },
   "file_extension": ".py",
   "mimetype": "text/x-python",
   "name": "python",
   "nbconvert_exporter": "python",
   "pygments_lexer": "ipython3",
   "version": "3.4.3"
  }
 },
 "nbformat": 4,
 "nbformat_minor": 2
}

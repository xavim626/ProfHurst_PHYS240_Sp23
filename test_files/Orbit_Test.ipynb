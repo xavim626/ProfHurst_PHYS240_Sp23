{
 "cells": [
  {
   "cell_type": "code",
   "execution_count": 1,
   "id": "4763e5a2",
   "metadata": {},
   "outputs": [],
   "source": [
    "# Set up configuration options and special features\n",
    "import numpy as np\n",
    "import matplotlib.pyplot as plt\n",
    "from tqdm import tqdm\n",
    "\n",
    "from nm4p.rk4 import rk4\n",
    "from nm4p.rka import rka"
   ]
  },
  {
   "cell_type": "code",
   "execution_count": 2,
   "id": "5f8947cd",
   "metadata": {},
   "outputs": [
    {
     "name": "stdout",
     "output_type": "stream",
     "text": [
      "Imported all packages\n"
     ]
    }
   ],
   "source": [
    "print('Imported all packages')"
   ]
  },
  {
   "cell_type": "code",
   "execution_count": 3,
   "id": "3f705954",
   "metadata": {},
   "outputs": [],
   "source": [
    "# Define gravrk function used by the Runge-Kutta routines\n",
    "def gravrk(s, t, GM):\n",
    "    \"\"\"\n",
    "    Returns the right-hand side of the Kepler ODE; used by Runge-Kutta routines\n",
    "    :param s: State vector [r(0), r(1), v(0), v(1)]\n",
    "    :param t: Time (not used here, included to match derivsRK input)\n",
    "    :param GM: Parameter G*M - gravitational constant * solar mass Units [AU^3/yr^2]\n",
    "    :return: deriv: Derivatives [dr(0/dt), dr(1)/dt, dv(0)/dt, dv(1)/dt]\n",
    "    \"\"\"\n",
    "\n",
    "    # Compute acceleration\n",
    "    r = s[:2]  # Unravel the vector s into position and velocity\n",
    "    v = s[2:]\n",
    "    accel = -GM * r / np.linalg.norm(r)**3  # Gravitational acceleration\n",
    "\n",
    "    # Return derivatives\n",
    "    deriv = np.array([v[0], v[1], accel[0], accel[1]])\n",
    "\n",
    "    return deriv"
   ]
  },
  {
   "cell_type": "code",
   "execution_count": null,
   "id": "f2936ebf",
   "metadata": {},
   "outputs": [
    {
     "name": "stdout",
     "output_type": "stream",
     "text": [
      "Enter initial radial distance (AU): 1\n"
     ]
    }
   ],
   "source": [
    "# Set initial position and velocity of the comet.\n",
    "r0 = eval(input('Enter initial radial distance (AU): '))\n",
    "v0 = eval(input('Enter initial tangential velocity (AU/yr): '))\n",
    "r = np.array([r0, 0.0])\n",
    "v = np.array([0.0, v0])\n",
    "\n",
    "state = np.array([r[0], r[1], v[0], v[1]])  # State used by R-K routines\n",
    "\n",
    "# Set physical parameters\n",
    "GM = 4 * np.pi**2  # Gravitational constant * Mass of sun [AU^3/yr^2]\n",
    "mass = 1.0  # Mass of comet (reference mass)\n",
    "adaptErr = 1.0E-3  # Error parameter used by adaptive Runge-Kutta\n",
    "time = 0.0\n",
    "\n",
    "# Loop over the desired number of steps using the specified numerical method.\n",
    "nStep = eval(input('Enter numer of iterations: '))\n",
    "tau = eval(input('Enter time step (yr): '))\n",
    "NumericalMethod = eval(input(' Choose numerical method: 1) Euler; 2) Euler-Cromer; 3) Runge-Kutta; 4) Adaptive Runge-Kutta  '))\n",
    "\n",
    "rplot = np.empty(nStep)\n",
    "thplot = np.empty(nStep)\n",
    "tplot = np.empty(nStep)\n",
    "kinetic = np.empty(nStep)\n",
    "potential = np.empty(nStep)"
   ]
  },
  {
   "cell_type": "code",
   "execution_count": null,
   "id": "941ffd33",
   "metadata": {},
   "outputs": [],
   "source": [
    "for iStep in tqdm(range(nStep)):\n",
    "\n",
    "    # Record position and energy for plotting\n",
    "    rplot[iStep] = np.linalg.norm(r)  # Record radial position and angle for polar plot\n",
    "    thplot[iStep] = np.arctan2(r[1], r[0])\n",
    "    tplot[iStep] = time\n",
    "    kinetic[iStep] = 0.5*mass*np.linalg.norm(v)**2  # Record kinetic and potential energy\n",
    "    potential[iStep] = - GM*mass/np.linalg.norm(r)\n",
    "\n",
    "    # Calculate new position and velocity using the desired method\n",
    "    if NumericalMethod == 1:\n",
    "        accel = -GM*r/np.linalg.norm(r)**3\n",
    "        r += tau*v  # Euler Step\n",
    "        v += tau*accel\n",
    "        time += tau\n",
    "    elif NumericalMethod == 2:\n",
    "        accel = -GM * r / np.linalg.norm(r) ** 3\n",
    "        v += tau * accel\n",
    "        r += tau * v  # Euler-Cromer Step\n",
    "        time += tau\n",
    "    elif NumericalMethod == 3:\n",
    "        state = rk4(state, time, tau, gravrk, GM)\n",
    "        r = state[:2]  # 4th Order Runge-Kutta\n",
    "        v = state[2:]\n",
    "        time += tau\n",
    "    elif NumericalMethod == 4:\n",
    "        state, time, tau = rka(state, time, tau, adaptErr, gravrk, GM)\n",
    "        r = state[:2]  # 4th Order Runge-Kutta\n",
    "        v = state[2:]\n",
    "    else:\n",
    "        raise ValueError('Invalid NumericalMethod input. Choose: 1) Euler; 2) Euler-Cromer; 3) Runge-Kutta; 4) Adaptive Runge-Kutta  ')\n"
   ]
  },
  {
   "cell_type": "code",
   "execution_count": null,
   "id": "e4b5c988",
   "metadata": {},
   "outputs": [],
   "source": [
    "# Graph the trajectory  and energy of the comet over time.\n",
    "totalE = kinetic + potential  # total energy\n",
    "\n",
    "fig = plt.figure(figsize=(10.0, 5.25))\n",
    "ax = fig.add_subplot(121, polar=True)\n",
    "ax.plot(thplot, rplot, '+',)\n",
    "ax.set_title('Distance (AU)')\n",
    "ax.grid(True)\n",
    "fig.tight_layout(pad=5.0)\n",
    "\n",
    "ax2 = fig.add_subplot(122)\n",
    "ax2.plot(tplot, kinetic, ls='-.', label='Kinetic')\n",
    "ax2.plot(tplot, potential, ls='--', label='Potential')\n",
    "ax2.plot(tplot, totalE, ls='-', label='Total')\n",
    "ax2.set_xlabel('Time (yr)')\n",
    "ax2.set_ylabel(r'Energy ($M~AU^3/yr^2$)')\n",
    "ax2.legend()\n",
    "\n",
    "plt.show()"
   ]
  },
  {
   "cell_type": "code",
   "execution_count": null,
   "id": "7037136e",
   "metadata": {},
   "outputs": [],
   "source": []
  }
 ],
 "metadata": {
  "kernelspec": {
   "display_name": "Python 3 (ipykernel)",
   "language": "python",
   "name": "python3"
  },
  "language_info": {
   "codemirror_mode": {
    "name": "ipython",
    "version": 3
   },
   "file_extension": ".py",
   "mimetype": "text/x-python",
   "name": "python",
   "nbconvert_exporter": "python",
   "pygments_lexer": "ipython3",
   "version": "3.9.7"
  }
 },
 "nbformat": 4,
 "nbformat_minor": 5
}

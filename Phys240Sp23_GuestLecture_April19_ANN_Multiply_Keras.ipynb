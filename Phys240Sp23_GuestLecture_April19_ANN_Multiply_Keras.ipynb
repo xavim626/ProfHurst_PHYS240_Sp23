{
 "cells": [
  {
   "cell_type": "code",
   "execution_count": 1,
   "metadata": {
    "collapsed": true
   },
   "outputs": [],
   "source": [
    "# The code is loosely based on the example in\n",
    "# https://towardsdatascience.com/building-our-first-neural-network-in-keras-bdc8abbc17f5\n",
    "#\n",
    "# Copyright © 2019 Ehsan Khatami\n",
    "\n",
    "import numpy as np\n",
    "\n",
    "import tensorflow\n",
    "import tensorflow.python.keras\n",
    "\n",
    "from tensorflow.python.keras.models import Sequential\n",
    "from tensorflow.python.keras.layers import Dense"
   ]
  },
  {
   "cell_type": "code",
   "execution_count": 34,
   "metadata": {
    "collapsed": true
   },
   "outputs": [],
   "source": [
    "# Data sizes\n",
    "N  = 20000\n",
    "\n",
    "# Network parameters\n",
    "N_in  = 2\n",
    "N_hid = 30\n",
    "N_out = 2\n",
    "\n",
    "# Generating the data (two number to be multiplied) and their labels (their product)\n",
    "X  = np.random.random(size=2*N).reshape(N,2)\n",
    "\n",
    "Y = np.zeros([N,2])\n",
    "Y[:,0] = X[:,0]*X[:,1]\n",
    "\n",
    "# This is becuase the output has two neurons and we use softmax\n",
    "Y[:,1] = 1 - Y[:,0]"
   ]
  },
  {
   "cell_type": "code",
   "execution_count": 35,
   "metadata": {
    "collapsed": true
   },
   "outputs": [],
   "source": [
    "# Creating training and testing data sets\n",
    "X_train = X[:N*8//10,:]\n",
    "X_test = X[N*8//10:,:]\n",
    "Y_train = Y[:N*8//10,:]\n",
    "Y_test = Y[N*8//10:,:]"
   ]
  },
  {
   "cell_type": "code",
   "execution_count": 42,
   "metadata": {
    "collapsed": true
   },
   "outputs": [],
   "source": [
    "# Building the neural network\n",
    "model = Sequential()\n",
    "model.add(Dense(N_hid, input_dim=N_in, activation='sigmoid'))\n",
    "model.add(Dense(10, activation='sigmoid'))\n",
    "model.add(Dense(N_out, activation='softmax'))"
   ]
  },
  {
   "cell_type": "code",
   "execution_count": 43,
   "metadata": {
    "collapsed": true
   },
   "outputs": [],
   "source": [
    "# Specifying the loss function, the optimizer and how we want to measure the success\n",
    "model.compile(loss='mean_absolute_error', optimizer='adam', metrics=['accuracy'])"
   ]
  },
  {
   "cell_type": "code",
   "execution_count": 44,
   "metadata": {},
   "outputs": [
    {
     "name": "stdout",
     "output_type": "stream",
     "text": [
      "Train on 16000 samples, validate on 4000 samples\n",
      "Epoch 1/100\n",
      "16000/16000 [==============================] - 1s 45us/step - loss: 0.1897 - acc: 0.8358 - val_loss: 0.1742 - val_acc: 0.8405\n",
      "Epoch 2/100\n",
      "16000/16000 [==============================] - 0s 21us/step - loss: 0.1689 - acc: 0.8429 - val_loss: 0.1645 - val_acc: 0.8405\n",
      "Epoch 3/100\n",
      "16000/16000 [==============================] - 0s 21us/step - loss: 0.1529 - acc: 0.8429 - val_loss: 0.1388 - val_acc: 0.8405\n",
      "Epoch 4/100\n",
      "16000/16000 [==============================] - 0s 22us/step - loss: 0.1059 - acc: 0.8562 - val_loss: 0.0666 - val_acc: 0.9170\n",
      "Epoch 5/100\n",
      "16000/16000 [==============================] - 0s 21us/step - loss: 0.0444 - acc: 0.9773 - val_loss: 0.0382 - val_acc: 0.9798\n",
      "Epoch 6/100\n",
      "16000/16000 [==============================] - 0s 21us/step - loss: 0.0367 - acc: 0.9851 - val_loss: 0.0365 - val_acc: 0.9835\n",
      "Epoch 7/100\n",
      "16000/16000 [==============================] - 0s 21us/step - loss: 0.0360 - acc: 0.9844 - val_loss: 0.0360 - val_acc: 0.9843\n",
      "Epoch 8/100\n",
      "16000/16000 [==============================] - 0s 22us/step - loss: 0.0356 - acc: 0.9848 - val_loss: 0.0357 - val_acc: 0.9858\n",
      "Epoch 9/100\n",
      "16000/16000 [==============================] - 0s 21us/step - loss: 0.0353 - acc: 0.9853 - val_loss: 0.0356 - val_acc: 0.9865\n",
      "Epoch 10/100\n",
      "16000/16000 [==============================] - 0s 21us/step - loss: 0.0351 - acc: 0.9854 - val_loss: 0.0352 - val_acc: 0.9860\n",
      "Epoch 11/100\n",
      "16000/16000 [==============================] - 0s 22us/step - loss: 0.0348 - acc: 0.9857 - val_loss: 0.0352 - val_acc: 0.9833\n",
      "Epoch 12/100\n",
      "16000/16000 [==============================] - 0s 24us/step - loss: 0.0347 - acc: 0.9861 - val_loss: 0.0348 - val_acc: 0.9860\n",
      "Epoch 13/100\n",
      "16000/16000 [==============================] - 0s 28us/step - loss: 0.0345 - acc: 0.9869 - val_loss: 0.0348 - val_acc: 0.9860\n",
      "Epoch 14/100\n",
      "16000/16000 [==============================] - 0s 26us/step - loss: 0.0344 - acc: 0.9864 - val_loss: 0.0346 - val_acc: 0.9865\n",
      "Epoch 15/100\n",
      "16000/16000 [==============================] - 0s 30us/step - loss: 0.0343 - acc: 0.9864 - val_loss: 0.0345 - val_acc: 0.9865\n",
      "Epoch 16/100\n",
      "16000/16000 [==============================] - 0s 21us/step - loss: 0.0342 - acc: 0.9868 - val_loss: 0.0343 - val_acc: 0.9865\n",
      "Epoch 17/100\n",
      "16000/16000 [==============================] - 0s 24us/step - loss: 0.0341 - acc: 0.9861 - val_loss: 0.0346 - val_acc: 0.9845\n",
      "Epoch 18/100\n",
      "16000/16000 [==============================] - 0s 25us/step - loss: 0.0340 - acc: 0.9863 - val_loss: 0.0347 - val_acc: 0.9833\n",
      "Epoch 19/100\n",
      "16000/16000 [==============================] - 0s 24us/step - loss: 0.0339 - acc: 0.9865 - val_loss: 0.0343 - val_acc: 0.9850\n",
      "Epoch 20/100\n",
      "16000/16000 [==============================] - 0s 31us/step - loss: 0.0338 - acc: 0.9873 - val_loss: 0.0341 - val_acc: 0.9848\n",
      "Epoch 21/100\n",
      "16000/16000 [==============================] - 0s 23us/step - loss: 0.0337 - acc: 0.9872 - val_loss: 0.0346 - val_acc: 0.9868\n",
      "Epoch 22/100\n",
      "16000/16000 [==============================] - 0s 23us/step - loss: 0.0335 - acc: 0.9871 - val_loss: 0.0338 - val_acc: 0.9860\n",
      "Epoch 23/100\n",
      "16000/16000 [==============================] - 0s 22us/step - loss: 0.0334 - acc: 0.9878 - val_loss: 0.0336 - val_acc: 0.9870\n",
      "Epoch 24/100\n",
      "16000/16000 [==============================] - 0s 21us/step - loss: 0.0334 - acc: 0.9874 - val_loss: 0.0335 - val_acc: 0.9870\n",
      "Epoch 25/100\n",
      "16000/16000 [==============================] - 0s 21us/step - loss: 0.0332 - acc: 0.9876 - val_loss: 0.0343 - val_acc: 0.9833\n",
      "Epoch 26/100\n",
      "16000/16000 [==============================] - 0s 21us/step - loss: 0.0331 - acc: 0.9876 - val_loss: 0.0338 - val_acc: 0.9850\n",
      "Epoch 27/100\n",
      "16000/16000 [==============================] - 0s 21us/step - loss: 0.0330 - acc: 0.9881 - val_loss: 0.0332 - val_acc: 0.9870\n",
      "Epoch 28/100\n",
      "16000/16000 [==============================] - 0s 21us/step - loss: 0.0329 - acc: 0.9879 - val_loss: 0.0332 - val_acc: 0.9858\n",
      "Epoch 29/100\n",
      "16000/16000 [==============================] - 0s 21us/step - loss: 0.0327 - acc: 0.9884 - val_loss: 0.0337 - val_acc: 0.9848\n",
      "Epoch 30/100\n",
      "16000/16000 [==============================] - 0s 23us/step - loss: 0.0328 - acc: 0.9879 - val_loss: 0.0328 - val_acc: 0.9875\n",
      "Epoch 31/100\n",
      "16000/16000 [==============================] - 0s 21us/step - loss: 0.0325 - acc: 0.9885 - val_loss: 0.0326 - val_acc: 0.9875\n",
      "Epoch 32/100\n",
      "16000/16000 [==============================] - 0s 22us/step - loss: 0.0324 - acc: 0.9878 - val_loss: 0.0335 - val_acc: 0.9898\n",
      "Epoch 33/100\n",
      "16000/16000 [==============================] - 0s 22us/step - loss: 0.0323 - acc: 0.9884 - val_loss: 0.0322 - val_acc: 0.9873\n",
      "Epoch 34/100\n",
      "16000/16000 [==============================] - 0s 26us/step - loss: 0.0319 - acc: 0.9889 - val_loss: 0.0322 - val_acc: 0.9873\n",
      "Epoch 35/100\n",
      "16000/16000 [==============================] - 0s 27us/step - loss: 0.0317 - acc: 0.9893 - val_loss: 0.0326 - val_acc: 0.9853\n",
      "Epoch 36/100\n",
      "16000/16000 [==============================] - 0s 21us/step - loss: 0.0315 - acc: 0.9890 - val_loss: 0.0321 - val_acc: 0.9880\n",
      "Epoch 37/100\n",
      "16000/16000 [==============================] - 0s 22us/step - loss: 0.0314 - acc: 0.9891 - val_loss: 0.0314 - val_acc: 0.9873\n",
      "Epoch 38/100\n",
      "16000/16000 [==============================] - 0s 20us/step - loss: 0.0310 - acc: 0.9896 - val_loss: 0.0312 - val_acc: 0.9883\n",
      "Epoch 39/100\n",
      "16000/16000 [==============================] - 0s 20us/step - loss: 0.0308 - acc: 0.9898 - val_loss: 0.0309 - val_acc: 0.9878\n",
      "Epoch 40/100\n",
      "16000/16000 [==============================] - 1s 33us/step - loss: 0.0304 - acc: 0.9895 - val_loss: 0.0310 - val_acc: 0.9873\n",
      "Epoch 41/100\n",
      "16000/16000 [==============================] - 1s 32us/step - loss: 0.0301 - acc: 0.9899 - val_loss: 0.0304 - val_acc: 0.9893\n",
      "Epoch 42/100\n",
      "16000/16000 [==============================] - 1s 36us/step - loss: 0.0299 - acc: 0.9898 - val_loss: 0.0306 - val_acc: 0.9873\n",
      "Epoch 43/100\n",
      "16000/16000 [==============================] - 0s 27us/step - loss: 0.0294 - acc: 0.9909 - val_loss: 0.0300 - val_acc: 0.9880\n",
      "Epoch 44/100\n",
      "16000/16000 [==============================] - 0s 29us/step - loss: 0.0290 - acc: 0.9910 - val_loss: 0.0293 - val_acc: 0.9898\n",
      "Epoch 45/100\n",
      "16000/16000 [==============================] - 1s 31us/step - loss: 0.0285 - acc: 0.9906 - val_loss: 0.0286 - val_acc: 0.9903\n",
      "Epoch 46/100\n",
      "16000/16000 [==============================] - 1s 32us/step - loss: 0.0282 - acc: 0.9916 - val_loss: 0.0280 - val_acc: 0.9905\n",
      "Epoch 47/100\n",
      "16000/16000 [==============================] - 0s 29us/step - loss: 0.0276 - acc: 0.9918 - val_loss: 0.0275 - val_acc: 0.9915\n",
      "Epoch 48/100\n",
      "16000/16000 [==============================] - 0s 28us/step - loss: 0.0269 - acc: 0.9928 - val_loss: 0.0269 - val_acc: 0.9918\n",
      "Epoch 49/100\n",
      "16000/16000 [==============================] - 0s 27us/step - loss: 0.0262 - acc: 0.9934 - val_loss: 0.0262 - val_acc: 0.9913\n",
      "Epoch 50/100\n",
      "16000/16000 [==============================] - 0s 25us/step - loss: 0.0255 - acc: 0.9937 - val_loss: 0.0257 - val_acc: 0.9905\n",
      "Epoch 51/100\n",
      "16000/16000 [==============================] - 1s 35us/step - loss: 0.0248 - acc: 0.9938 - val_loss: 0.0250 - val_acc: 0.9938\n",
      "Epoch 52/100\n",
      "16000/16000 [==============================] - 0s 23us/step - loss: 0.0240 - acc: 0.9938 - val_loss: 0.0238 - val_acc: 0.9933\n",
      "Epoch 53/100\n",
      "16000/16000 [==============================] - 0s 25us/step - loss: 0.0231 - acc: 0.9944 - val_loss: 0.0229 - val_acc: 0.9953\n",
      "Epoch 54/100\n",
      "16000/16000 [==============================] - 0s 22us/step - loss: 0.0220 - acc: 0.9949 - val_loss: 0.0220 - val_acc: 0.9968\n",
      "Epoch 55/100\n",
      "16000/16000 [==============================] - 0s 21us/step - loss: 0.0211 - acc: 0.9948 - val_loss: 0.0210 - val_acc: 0.9925\n",
      "Epoch 56/100\n",
      "16000/16000 [==============================] - 0s 21us/step - loss: 0.0199 - acc: 0.9956 - val_loss: 0.0196 - val_acc: 0.9970\n",
      "Epoch 57/100\n",
      "16000/16000 [==============================] - 0s 21us/step - loss: 0.0187 - acc: 0.9961 - val_loss: 0.0188 - val_acc: 0.9983\n",
      "Epoch 58/100\n",
      "16000/16000 [==============================] - 0s 21us/step - loss: 0.0177 - acc: 0.9954 - val_loss: 0.0174 - val_acc: 0.9983\n",
      "Epoch 59/100\n",
      "16000/16000 [==============================] - 0s 20us/step - loss: 0.0164 - acc: 0.9964 - val_loss: 0.0162 - val_acc: 0.9970\n",
      "Epoch 60/100\n",
      "16000/16000 [==============================] - 0s 20us/step - loss: 0.0154 - acc: 0.9958 - val_loss: 0.0155 - val_acc: 0.9948\n",
      "Epoch 61/100\n",
      "16000/16000 [==============================] - 0s 20us/step - loss: 0.0145 - acc: 0.9963 - val_loss: 0.0145 - val_acc: 0.9963\n",
      "Epoch 62/100\n",
      "16000/16000 [==============================] - 0s 20us/step - loss: 0.0137 - acc: 0.9964 - val_loss: 0.0140 - val_acc: 0.9948\n",
      "Epoch 63/100\n",
      "16000/16000 [==============================] - 0s 19us/step - loss: 0.0132 - acc: 0.9951 - val_loss: 0.0132 - val_acc: 0.9980\n",
      "Epoch 64/100\n",
      "16000/16000 [==============================] - 0s 20us/step - loss: 0.0127 - acc: 0.9959 - val_loss: 0.0128 - val_acc: 0.9955\n",
      "Epoch 65/100\n",
      "16000/16000 [==============================] - 0s 19us/step - loss: 0.0123 - acc: 0.9953 - val_loss: 0.0126 - val_acc: 0.9948\n",
      "Epoch 66/100\n",
      "16000/16000 [==============================] - 0s 20us/step - loss: 0.0118 - acc: 0.9959 - val_loss: 0.0121 - val_acc: 0.9983\n",
      "Epoch 67/100\n",
      "16000/16000 [==============================] - 0s 20us/step - loss: 0.0115 - acc: 0.9962 - val_loss: 0.0115 - val_acc: 0.9978\n",
      "Epoch 68/100\n",
      "16000/16000 [==============================] - 0s 20us/step - loss: 0.0111 - acc: 0.9966 - val_loss: 0.0118 - val_acc: 0.9955\n",
      "Epoch 69/100\n",
      "16000/16000 [==============================] - 0s 20us/step - loss: 0.0107 - acc: 0.9975 - val_loss: 0.0113 - val_acc: 0.9963\n",
      "Epoch 70/100\n",
      "16000/16000 [==============================] - 0s 20us/step - loss: 0.0105 - acc: 0.9974 - val_loss: 0.0107 - val_acc: 0.9973\n",
      "Epoch 71/100\n",
      "16000/16000 [==============================] - 0s 20us/step - loss: 0.0102 - acc: 0.9975 - val_loss: 0.0104 - val_acc: 0.9990\n",
      "Epoch 72/100\n",
      "16000/16000 [==============================] - 0s 19us/step - loss: 0.0098 - acc: 0.9980 - val_loss: 0.0102 - val_acc: 0.9983\n",
      "Epoch 73/100\n",
      "16000/16000 [==============================] - 0s 19us/step - loss: 0.0096 - acc: 0.9985 - val_loss: 0.0100 - val_acc: 0.9985\n",
      "Epoch 74/100\n",
      "16000/16000 [==============================] - 0s 20us/step - loss: 0.0093 - acc: 0.9984 - val_loss: 0.0096 - val_acc: 0.9985\n",
      "Epoch 75/100\n",
      "16000/16000 [==============================] - 0s 20us/step - loss: 0.0091 - acc: 0.9984 - val_loss: 0.0093 - val_acc: 0.9990\n",
      "Epoch 76/100\n",
      "16000/16000 [==============================] - 0s 20us/step - loss: 0.0089 - acc: 0.9988 - val_loss: 0.0097 - val_acc: 0.9970\n",
      "Epoch 77/100\n",
      "16000/16000 [==============================] - 0s 20us/step - loss: 0.0087 - acc: 0.9987 - val_loss: 0.0089 - val_acc: 0.9993\n",
      "Epoch 78/100\n",
      "16000/16000 [==============================] - 0s 20us/step - loss: 0.0085 - acc: 0.9989 - val_loss: 0.0087 - val_acc: 0.9995\n",
      "Epoch 79/100\n",
      "16000/16000 [==============================] - 0s 19us/step - loss: 0.0083 - acc: 0.9992 - val_loss: 0.0085 - val_acc: 0.9995\n",
      "Epoch 80/100\n",
      "16000/16000 [==============================] - 0s 20us/step - loss: 0.0082 - acc: 0.9986 - val_loss: 0.0083 - val_acc: 0.9995\n",
      "Epoch 81/100\n",
      "16000/16000 [==============================] - 0s 20us/step - loss: 0.0080 - acc: 0.9991 - val_loss: 0.0082 - val_acc: 0.9998\n",
      "Epoch 82/100\n",
      "16000/16000 [==============================] - 0s 20us/step - loss: 0.0079 - acc: 0.9988 - val_loss: 0.0081 - val_acc: 0.9995\n",
      "Epoch 83/100\n",
      "16000/16000 [==============================] - 0s 20us/step - loss: 0.0078 - acc: 0.9992 - val_loss: 0.0079 - val_acc: 0.9998\n",
      "Epoch 84/100\n",
      "16000/16000 [==============================] - 0s 20us/step - loss: 0.0077 - acc: 0.9992 - val_loss: 0.0083 - val_acc: 0.9990\n",
      "Epoch 85/100\n",
      "16000/16000 [==============================] - 0s 20us/step - loss: 0.0076 - acc: 0.9990 - val_loss: 0.0078 - val_acc: 0.9995\n",
      "Epoch 86/100\n",
      "16000/16000 [==============================] - 0s 21us/step - loss: 0.0075 - acc: 0.9992 - val_loss: 0.0077 - val_acc: 0.9993\n",
      "Epoch 87/100\n",
      "16000/16000 [==============================] - 0s 19us/step - loss: 0.0074 - acc: 0.9991 - val_loss: 0.0076 - val_acc: 0.9993\n",
      "Epoch 88/100\n",
      "16000/16000 [==============================] - 0s 20us/step - loss: 0.0073 - acc: 0.9988 - val_loss: 0.0076 - val_acc: 0.9993\n",
      "Epoch 89/100\n",
      "16000/16000 [==============================] - 0s 20us/step - loss: 0.0072 - acc: 0.9990 - val_loss: 0.0074 - val_acc: 0.9995\n",
      "Epoch 90/100\n",
      "16000/16000 [==============================] - 0s 21us/step - loss: 0.0072 - acc: 0.9991 - val_loss: 0.0073 - val_acc: 0.9998\n",
      "Epoch 91/100\n",
      "16000/16000 [==============================] - 0s 20us/step - loss: 0.0070 - acc: 0.9989 - val_loss: 0.0072 - val_acc: 0.9995\n",
      "Epoch 92/100\n",
      "16000/16000 [==============================] - 0s 20us/step - loss: 0.0070 - acc: 0.9988 - val_loss: 0.0071 - val_acc: 0.9998\n",
      "Epoch 93/100\n",
      "16000/16000 [==============================] - 0s 20us/step - loss: 0.0068 - acc: 0.9991 - val_loss: 0.0071 - val_acc: 0.9998\n",
      "Epoch 94/100\n",
      "16000/16000 [==============================] - 0s 20us/step - loss: 0.0068 - acc: 0.9990 - val_loss: 0.0070 - val_acc: 0.9998\n",
      "Epoch 95/100\n",
      "16000/16000 [==============================] - 0s 20us/step - loss: 0.0067 - acc: 0.9991 - val_loss: 0.0069 - val_acc: 0.9998\n",
      "Epoch 96/100\n",
      "16000/16000 [==============================] - 0s 20us/step - loss: 0.0067 - acc: 0.9989 - val_loss: 0.0073 - val_acc: 0.9990\n",
      "Epoch 97/100\n",
      "16000/16000 [==============================] - 0s 20us/step - loss: 0.0066 - acc: 0.9990 - val_loss: 0.0068 - val_acc: 0.9998\n",
      "Epoch 98/100\n",
      "16000/16000 [==============================] - 0s 20us/step - loss: 0.0066 - acc: 0.9984 - val_loss: 0.0067 - val_acc: 0.9998\n",
      "Epoch 99/100\n",
      "16000/16000 [==============================] - 0s 20us/step - loss: 0.0065 - acc: 0.9991 - val_loss: 0.0066 - val_acc: 0.9995\n",
      "Epoch 100/100\n",
      "16000/16000 [==============================] - 0s 20us/step - loss: 0.0064 - acc: 0.9989 - val_loss: 0.0066 - val_acc: 0.9993\n"
     ]
    }
   ],
   "source": [
    "# Training the network using the fit option\n",
    "history = model.fit(X_train, Y_train, validation_data = (X_test,Y_test), epochs=100, batch_size=100)"
   ]
  },
  {
   "cell_type": "code",
   "execution_count": 45,
   "metadata": {},
   "outputs": [
    {
     "data": {
      "image/png": "[encoded data removed]",
      "text/plain": [
       "<matplotlib.figure.Figure at 0x11c4a7f28>"
      ]
     },
     "metadata": {},
     "output_type": "display_data"
    }
   ],
   "source": [
    "import matplotlib.pyplot as plt\n",
    "plt.plot(history.history['acc'])\n",
    "plt.plot(history.history['val_acc'])\n",
    "plt.title('Model accuracy')\n",
    "plt.ylabel('Accuracy')\n",
    "plt.xlabel('Epoch')\n",
    "plt.legend(['Train', 'Test'], loc='lower right')\n",
    "plt.show()"
   ]
  },
  {
   "cell_type": "code",
   "execution_count": 46,
   "metadata": {},
   "outputs": [
    {
     "data": {
      "image/png": "[encoded data removed]",
      "text/plain": [
       "<matplotlib.figure.Figure at 0x11c60c898>"
      ]
     },
     "metadata": {},
     "output_type": "display_data"
    }
   ],
   "source": [
    "plt.plot(history.history['loss']) \n",
    "plt.plot(history.history['val_loss']) \n",
    "plt.title('Model loss') \n",
    "plt.ylabel('Loss') \n",
    "plt.xlabel('Epoch') \n",
    "plt.legend(['Train', 'Test'], loc='upper right') \n",
    "plt.show()"
   ]
  },
  {
   "cell_type": "code",
   "execution_count": 47,
   "metadata": {},
   "outputs": [
    {
     "data": {
      "image/png": "[encoded data removed]",
      "text/plain": [
       "<matplotlib.figure.Figure at 0x11cb09208>"
      ]
     },
     "metadata": {},
     "output_type": "display_data"
    }
   ],
   "source": [
    "N = 1000\n",
    "X  = np.random.random(size=2*N).reshape(N,2)\n",
    "Y = np.zeros([N,2])\n",
    "Y[:,0] = X[:,0]*X[:,1]\n",
    "Y[:,1] = 1 - Y[:,0]\n",
    "\n",
    "y_pred = model.predict(X)\n",
    "\n",
    "plt.plot(Y[:,0],y_pred[:,0],'o',markersize=2)\n",
    "plt.plot([0,1],[0,1],'r-',linewidth=3)\n",
    "plt.show()"
   ]
  },
  {
   "cell_type": "code",
   "execution_count": null,
   "metadata": {
    "collapsed": true
   },
   "outputs": [],
   "source": []
  }
 ],
 "metadata": {
  "kernelspec": {
   "display_name": "Python 3",
   "language": "python",
   "name": "python3"
  },
  "language_info": {
   "codemirror_mode": {
    "name": "ipython",
    "version": 3
   },
   "file_extension": ".py",
   "mimetype": "text/x-python",
   "name": "python",
   "nbconvert_exporter": "python",
   "pygments_lexer": "ipython3",
   "version": "3.4.3"
  }
 },
 "nbformat": 4,
 "nbformat_minor": 2
}

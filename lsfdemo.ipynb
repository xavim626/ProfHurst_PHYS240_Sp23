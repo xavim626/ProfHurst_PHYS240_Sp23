{
 "cells": [
  {
   "cell_type": "code",
   "execution_count": 1,
   "metadata": {},
   "outputs": [],
   "source": [
    "# lsfdemo - Program for demonstrating least squares fit routines\n",
    "# by Garcia with modifications from Romanowsky"
   ]
  },
  {
   "cell_type": "code",
   "execution_count": null,
   "metadata": {},
   "outputs": [],
   "source": [
    "# Set up configuration options and special features\n",
    "from pylab import *"
   ]
  },
  {
   "cell_type": "code",
   "execution_count": null,
   "metadata": {},
   "outputs": [],
   "source": [
    "#from nm4p.linreg import linreg\n",
    "#from nm4p.pollsf import pollsf"
   ]
  },
  {
   "cell_type": "code",
   "execution_count": null,
   "metadata": {},
   "outputs": [],
   "source": [
    "def dinput(input_text) :\n",
    "    return int(input(input_text))\n",
    "\n",
    "def finput(input_text) :\n",
    "    return float(input(input_text))\n",
    "\n",
    "def ainput(input_prompt) :\n",
    "    '''\n",
    "    Function to convert user input of a list or tuple of values to a numpy array.\n",
    "    Input format can be like \"1,2\" or \"[1,2]\" or \"(1,2)\" etc\n",
    "    '''\n",
    "    return(array(eval(input(input_prompt))))"
   ]
  },
  {
   "cell_type": "code",
   "execution_count": null,
   "metadata": {},
   "outputs": [],
   "source": [
    "def linreg(x,y,sigma):\n",
    "    \"\"\"Function to perform straight-line linear regression\n",
    "       Inputs\n",
    "        x       Independent variable\n",
    "        y       Dependent variable\n",
    "        sigma   Estimated error in y\n",
    "       Outputs\n",
    "        a_fit   Fit parameters; a(1) is intercept, a(2) is slope\n",
    "        sig_a   Estimated error in the parameters a()\n",
    "        yy      Curve fit to the data\n",
    "        chisqr  Chi squared statistic\n",
    "    \"\"\"\n",
    "\n",
    "    #* Evaluate various sigma sums\n",
    "    s = 0.; sx = 0.; sy = 0.; sxy = 0.; sxx = 0.\n",
    "    for i in range(len(x)):\n",
    "        sigmaTerm = sigma[i]**(-2)\n",
    "        s += sigmaTerm\n",
    "        sx += x[i] * sigmaTerm\n",
    "        sy += y[i] * sigmaTerm\n",
    "        sxy += x[i] * y[i] * sigmaTerm\n",
    "        sxx += x[i]**2 * sigmaTerm\n",
    "    denom = s*sxx - sx**2\n",
    "\n",
    "    #* Compute intercept a_fit(1) and slope a_fit(2)\n",
    "    a_fit = empty(2)\n",
    "    a_fit[0] = (sxx*sy - sx*sxy)/denom\n",
    "    a_fit[1] = (s*sxy - sx*sy)/denom\n",
    "\n",
    "    #* Compute error bars for intercept and slope\n",
    "    sig_a = empty(2)\n",
    "    sig_a[0] = sqrt(sxx/denom)\n",
    "    sig_a[1] = sqrt(s/denom)\n",
    "\n",
    "    #* Evaluate curve fit at each data point and compute Chi^2\n",
    "    yy = empty(len(x))\n",
    "    chisqr = 0.\n",
    "    for i in range(len(x)):\n",
    "        yy[i] = a_fit[0] + a_fit[1]*x[i]          # Curve fit to the data\n",
    "        chisqr += ( (y[i]-yy[i])/sigma[i] )**2    # Chi square\n",
    "    return [a_fit, sig_a, yy, chisqr]"
   ]
  },
  {
   "cell_type": "code",
   "execution_count": null,
   "metadata": {},
   "outputs": [],
   "source": [
    "def pollsf(x, y, sigma, M):\n",
    "    \"\"\"Function to fit a polynomial to data\n",
    "       Inputs \n",
    "        x       Independent variable\n",
    "        y       Dependent variable\n",
    "        sigma   Estimate error in y\n",
    "        M       Number of parameters used to fit data\n",
    "       Outputs\n",
    "        a_fit   Fit parameters; a(1) is intercept, a(2) is slope\n",
    "        sig_a   Estimated error in the parameters a()\n",
    "        yy      Curve fit to the data\n",
    "        chisqr  Chi squared statistic\n",
    "    \"\"\"\n",
    "\n",
    "    #* Form the vector b and design matrix A   \n",
    "    N = len(x)\n",
    "    b = empty(N)\n",
    "    A = empty((N,M))\n",
    "    for i in range(N):\n",
    "        b[i] = y[i]/sigma[i]\n",
    "        for j in range(M):\n",
    "            A[i,j] = x[i]**j / sigma[i]\n",
    "\n",
    "    #* Compute the correlation matrix C \n",
    "    C = inv( transpose(A) @ A )\n",
    "\n",
    "    #* Compute the least squares polynomial coefficients a_fit\n",
    "    a_fit = C @ ( transpose(A) @ transpose(b) ) \n",
    "\n",
    "    #* Compute the estimated error bars for the coefficients\n",
    "    sig_a = empty(M)\n",
    "    for j in range(M):\n",
    "        sig_a[j] = sqrt(C[j,j])\n",
    "\n",
    "    #* Evaluate curve fit at each data point and compute Chi^2\n",
    "    yy = zeros(N)\n",
    "    chisqr = 0\n",
    "    for i in range(N):\n",
    "        for j in range(M):\n",
    "            yy[i] += a_fit[j]*x[i]**j   # yy is the curve fit\n",
    "        chisqr += ((y[i]-yy[i]) / sigma[i])**2\n",
    "\n",
    "    return [a_fit, sig_a, yy, chisqr]"
   ]
  },
  {
   "cell_type": "code",
   "execution_count": null,
   "metadata": {},
   "outputs": [],
   "source": [
    "#* Initialize data to be fit. Data is quadratic plus random number.\n",
    "print('Curve fit data is created using the quadratic')\n",
    "print('  y(x) = c(0) + c(1)*x + c(2)*x**2')\n",
    "c = ainput('Enter the coefficients as [c(0), c(1), c(2)]: ')\n",
    "N = 11                 # Number of data points\n",
    "x = arange(0,N)    # x = [0, 1, ..., N-1]\n",
    "dy = ones(N) * finput('Enter estimated error bar: ') # constant error-bars\n",
    "seed(0)           # Initialize random number generator\n",
    "y = c[0] + c[1]*x + c[2]*x**2\n",
    "y += normal(0,dy) # add simulated measurement errors (Gaussian distributed random vector)"
   ]
  },
  {
   "cell_type": "code",
   "execution_count": null,
   "metadata": {},
   "outputs": [],
   "source": [
    "#* Fit the data to a straight line or a more general polynomial\n",
    "M = dinput('Enter number of fit parameters (= 2 for line): ')\n",
    "if M == 2 :  \n",
    "    #* straight line fit\n",
    "    [a_fit, sig_a, yy, chisqr] = linreg(x, y, dy)\n",
    "else: \n",
    "    #* Polynomial fit\n",
    "    [a_fit, sig_a, yy, chisqr] = pollsf(x, y, dy, M)"
   ]
  },
  {
   "cell_type": "code",
   "execution_count": null,
   "metadata": {},
   "outputs": [],
   "source": [
    "#* Print out the fit parameters, including their error bars.\n",
    "print('Fit parameters:')\n",
    "for i in range(M):\n",
    "    print('a[%d] = %.5f +/- %.5f' % (i,a_fit[i],sig_a[i]))"
   ]
  },
  {
   "cell_type": "code",
   "execution_count": null,
   "metadata": {},
   "outputs": [],
   "source": [
    "# Use built-in numpy function:\n",
    "deg = M - 1\n",
    "params, cov = polyfit(x,y,deg,w=1/dy,cov=True)\n",
    "dparams = sqrt( diag( cov ))\n",
    "print('polyval best-fit parameters: ', params)\n",
    "# variance in parameters from diagonal of covariance matrix:\n",
    "print('parameter uncertainties: ', dparams)\n",
    "\n",
    "# construct best-fitting model\n",
    "xmod = linspace(min(x),max(x),100)\n",
    "ymod = polyval(params,xmod)"
   ]
  },
  {
   "cell_type": "code",
   "execution_count": null,
   "metadata": {},
   "outputs": [],
   "source": [
    "rcParams.update({'font.size': 20})"
   ]
  },
  {
   "cell_type": "code",
   "execution_count": null,
   "metadata": {},
   "outputs": [],
   "source": [
    "#* Graph the data, with error bars, and fitting function.\n",
    "fig1 = figure(figsize=(10,8))\n",
    "errorbar(x,y,dy,fmt='o',ms=10,label='data $y_i$')   # Graph data with error bars\n",
    "plot(x,yy,'-',lw=2,label='model $Y(x)$')            # Plot the fit on same graph as data\n",
    "plot(xmod,ymod,'--',lw=2,label='polyfit model') # polyfit result\n",
    "xlabel('$x_i$')  \n",
    "ylabel('$y_i$ and $Y(x)$')\n",
    "legend(loc='best')\n",
    "title('$\\chi^2 = %d, \\,   N-M = %d$' % (chisqr, N-M) )\n",
    "tick_params('both', length=8, width=1.2, which='major') # bigger axis ticks"
   ]
  },
  {
   "cell_type": "code",
   "execution_count": null,
   "metadata": {},
   "outputs": [],
   "source": []
  }
 ],
 "metadata": {
  "anaconda-cloud": {},
  "kernelspec": {
   "display_name": "Python 3 (ipykernel)",
   "language": "python",
   "name": "python3"
  },
  "language_info": {
   "codemirror_mode": {
    "name": "ipython",
    "version": 3
   },
   "file_extension": ".py",
   "mimetype": "text/x-python",
   "name": "python",
   "nbconvert_exporter": "python",
   "pygments_lexer": "ipython3",
   "version": "3.9.13"
  }
 },
 "nbformat": 4,
 "nbformat_minor": 1
}
